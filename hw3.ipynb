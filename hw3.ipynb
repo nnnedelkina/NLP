{
 "cells": [
  {
   "cell_type": "markdown",
   "id": "c796ed34",
   "metadata": {},
   "source": [
    "## ДЗ 3\n",
    "\n",
    "Задача поиск похожих по эмбеддингам\n",
    "\n",
    "Скачиваем датасет (источник): положительные, отрицательные.\n",
    "\n",
    "или можно через ноутбук\n",
    "\n",
    "!wget https://www.dropbox.com/s/fnpq3z4bcnoktiv/positive.csv\n",
    "!wget https://www.dropbox.com/s/r6u59ljhhjdg6j0/negative.csv\n",
    "\n",
    "что надо сделать\n",
    "1. объединить в одну выборку\n",
    "2. на основе word2vec/fasttext/glove/слоя Embedding реализовать метод поиска ближайших твитов\n",
    "(на вход метода должен приходить запрос (какой-то твит, вопрос) и количество вариантов вывода к примеру 5-ть, ваш метод должен возвращать 5-ть ближайших твитов к этому запросу)\n",
    "3. Проверить насколько хорошо работают подходы\n",
    "\n",
    "# Извините, пока заглушка, постараюсь доделать до конца дня завтра, вроде немного, но времени не хватает :( "
   ]
  },
  {
   "cell_type": "code",
   "execution_count": 18,
   "id": "3dc9040f",
   "metadata": {},
   "outputs": [],
   "source": [
    "import pandas as pd\n",
    "import string\n",
    "from pymorphy2 import MorphAnalyzer\n",
    "from stop_words import get_stop_words\n",
    "import annoy\n",
    "from gensim.models import Word2Vec, FastText\n",
    "import pickle\n",
    "import numpy as np\n",
    "from tqdm import tqdm_notebook"
   ]
  },
  {
   "cell_type": "code",
   "execution_count": 16,
   "id": "0f4fc138",
   "metadata": {},
   "outputs": [
    {
     "data": {
      "text/html": [
       "<div>\n",
       "<style scoped>\n",
       "    .dataframe tbody tr th:only-of-type {\n",
       "        vertical-align: middle;\n",
       "    }\n",
       "\n",
       "    .dataframe tbody tr th {\n",
       "        vertical-align: top;\n",
       "    }\n",
       "\n",
       "    .dataframe thead th {\n",
       "        text-align: right;\n",
       "    }\n",
       "</style>\n",
       "<table border=\"1\" class=\"dataframe\">\n",
       "  <thead>\n",
       "    <tr style=\"text-align: right;\">\n",
       "      <th></th>\n",
       "      <th>3</th>\n",
       "    </tr>\n",
       "  </thead>\n",
       "  <tbody>\n",
       "    <tr>\n",
       "      <th>0</th>\n",
       "      <td>на работе был полный пиддес :| и так каждое за...</td>\n",
       "    </tr>\n",
       "    <tr>\n",
       "      <th>1</th>\n",
       "      <td>Коллеги сидят рубятся в Urban terror, а я из-з...</td>\n",
       "    </tr>\n",
       "    <tr>\n",
       "      <th>2</th>\n",
       "      <td>@elina_4post как говорят обещаного три года жд...</td>\n",
       "    </tr>\n",
       "    <tr>\n",
       "      <th>3</th>\n",
       "      <td>Желаю хорошего полёта и удачной посадки,я буду...</td>\n",
       "    </tr>\n",
       "    <tr>\n",
       "      <th>4</th>\n",
       "      <td>Обновил за каким-то лешим surf, теперь не рабо...</td>\n",
       "    </tr>\n",
       "    <tr>\n",
       "      <th>...</th>\n",
       "      <td>...</td>\n",
       "    </tr>\n",
       "    <tr>\n",
       "      <th>114906</th>\n",
       "      <td>Спала в родительском доме, на своей кровати......</td>\n",
       "    </tr>\n",
       "    <tr>\n",
       "      <th>114907</th>\n",
       "      <td>RT @jebesilofyt: Эх... Мы немного решили сокра...</td>\n",
       "    </tr>\n",
       "    <tr>\n",
       "      <th>114908</th>\n",
       "      <td>Что происходит со мной, когда в эфире #proacti...</td>\n",
       "    </tr>\n",
       "    <tr>\n",
       "      <th>114909</th>\n",
       "      <td>\"Любимая,я подарю тебе эту звезду...\" Имя како...</td>\n",
       "    </tr>\n",
       "    <tr>\n",
       "      <th>114910</th>\n",
       "      <td>@Ma_che_rie посмотри #непытайтесьпокинутьомск ...</td>\n",
       "    </tr>\n",
       "  </tbody>\n",
       "</table>\n",
       "<p>226834 rows × 1 columns</p>\n",
       "</div>"
      ],
      "text/plain": [
       "                                                        3\n",
       "0       на работе был полный пиддес :| и так каждое за...\n",
       "1       Коллеги сидят рубятся в Urban terror, а я из-з...\n",
       "2       @elina_4post как говорят обещаного три года жд...\n",
       "3       Желаю хорошего полёта и удачной посадки,я буду...\n",
       "4       Обновил за каким-то лешим surf, теперь не рабо...\n",
       "...                                                   ...\n",
       "114906  Спала в родительском доме, на своей кровати......\n",
       "114907  RT @jebesilofyt: Эх... Мы немного решили сокра...\n",
       "114908  Что происходит со мной, когда в эфире #proacti...\n",
       "114909  \"Любимая,я подарю тебе эту звезду...\" Имя како...\n",
       "114910  @Ma_che_rie посмотри #непытайтесьпокинутьомск ...\n",
       "\n",
       "[226834 rows x 1 columns]"
      ]
     },
     "execution_count": 16,
     "metadata": {},
     "output_type": "execute_result"
    }
   ],
   "source": [
    "df_pos = pd.read_csv('positive.csv', sep=';', header=None, usecols=[3])\n",
    "df_neg = pd.read_csv('negative.csv', sep=';', header=None, usecols=[3])\n",
    "df = pd.concat([df_neg, df_pos])\n",
    "df"
   ]
  },
  {
   "cell_type": "code",
   "execution_count": null,
   "id": "3f07f068",
   "metadata": {},
   "outputs": [],
   "source": []
  },
  {
   "cell_type": "code",
   "execution_count": null,
   "id": "fafcca49",
   "metadata": {},
   "outputs": [],
   "source": []
  }
 ],
 "metadata": {
  "kernelspec": {
   "display_name": "Python 3 (ipykernel)",
   "language": "python",
   "name": "python3"
  },
  "language_info": {
   "codemirror_mode": {
    "name": "ipython",
    "version": 3
   },
   "file_extension": ".py",
   "mimetype": "text/x-python",
   "name": "python",
   "nbconvert_exporter": "python",
   "pygments_lexer": "ipython3",
   "version": "3.7.12"
  }
 },
 "nbformat": 4,
 "nbformat_minor": 5
}
